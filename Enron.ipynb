{
 "cells": [
  {
   "cell_type": "code",
   "execution_count": 1,
   "metadata": {
    "collapsed": false
   },
   "outputs": [
    {
     "name": "stdout",
     "output_type": "stream",
     "text": [
      "{u'Email_id': u'robert.badeer@enron.com', u'first_name': u'Robert', u'last_name': u'Badeer', u'eid': u'1'}\n"
     ]
    }
   ],
   "source": [
    "import unicodecsv\n",
    "from datetime import datetime as dt\n",
    "# Representing csv in python\n",
    "# option1: Each row is a list(list of list)\n",
    "csv = [['A1', 'A2', 'A3'],\n",
    "       ['B1', 'B2', 'B3']]\n",
    "# Option2: Each row is a dictionry(best option when data has a header, lost of dictionary)\n",
    "csv = [{'name1': 'A1', 'name2':'A2'},\n",
    "       {'name1':'B1', 'name2':'B2'}]\n",
    "\n",
    "# reading data\n",
    "\n",
    "enrollments = []\n",
    "# f= open('enrollments.csv', 'rb')\n",
    "# reader = unicodecsv.DictReader(f)\n",
    "# # print reader, reader is a iterator and DictReader means each rw is dictionary\n",
    "# for row in reader:\n",
    "#     enrollments.append(row)\n",
    "# f.close()\n",
    "# with statement, file will automatically be closed\n",
    "\n",
    "# with open('enrollments.csv', 'rb') as f:\n",
    "#     reader = unicodecsv.DictReader(f)\n",
    "#     for row in reader:\n",
    "#         enrollments.append(row)\n",
    "    \n",
    "\n",
    "# with open('daily_engagement.csv', 'rb') as f:\n",
    "#     reader = unicodecsv.DictReader(f)\n",
    "#     daily_engagement = list(reader)\n",
    "\n",
    "# with open('project_submissions.csv', 'rb') as f:\n",
    "#     reader = unicodecsv.DictReader(f)\n",
    "#     project_submissions = list(reader)\n",
    "\n",
    "# take date as as a string, and rwturns a python datetime object.\n",
    "def parse_date(date):\n",
    "    if date == \"\":\n",
    "        return None\n",
    "    else:\n",
    "        return dt.strptime(date, '%y-%m-%d')\n",
    "\n",
    "def parse_maybe_int(i):\n",
    "    if i == '':\n",
    "        return None\n",
    "    else:\n",
    "        return int(i)\n",
    "\n",
    "# writitng function for reading csv file\n",
    "def read_csv(filename):\n",
    "    with open(filename, 'rb') as f:\n",
    "        reader = unicodecsv.DictReader(f)\n",
    "        return list(reader)\n",
    "\n",
    "\n",
    "Employees = read_csv('employeelist.csv')\n",
    "print Employees[0]\n",
    "\n",
    "# Messages_Sender = read_csv('MsgWithSender_1998.csv')\n",
    "# print Messages_Sender\n",
    "\n",
    "\n",
    "\n",
    "\n",
    "\n"
   ]
  },
  {
   "cell_type": "code",
   "execution_count": 46,
   "metadata": {
    "collapsed": false
   },
   "outputs": [
    {
     "name": "stdout",
     "output_type": "stream",
     "text": [
      "\n"
     ]
    }
   ],
   "source": [
    "# How long usually take studdents before they submit their project\n",
    "total_days = 0\n",
    "# subtation of two different dates\n",
    "def days_between(d1, d2):\n",
    "    \n",
    "    d1 = dt.strptime(d1, \"%y-%m-%d\")\n",
    "    d2 = dt.strptime(d2, \"%y-%m-%d\")\n",
    "    \n",
    "    return abs((d2 - d1).days)\n",
    "\n",
    "\n",
    "# print days_between()\n",
    "\n",
    "# for prj in project_submissions:\n",
    "#     diff = days_between(prj['completion_date'], prj['creation_date'])\n",
    "#     total_days+= diff \n",
    "\n",
    "# print  total_days\n",
    "    \n",
    "\n"
   ]
  },
  {
   "cell_type": "code",
   "execution_count": 13,
   "metadata": {
    "collapsed": false
   },
   "outputs": [
    {
     "name": "stdout",
     "output_type": "stream",
     "text": [
      "Enrolled students 1640\n",
      "unique enrolled students 1302\n",
      "Daily engagment 136240\n",
      "unique daily engagement students 1237\n",
      "Total project submitter 3642\n",
      "unique project submitters 743\n"
     ]
    }
   ],
   "source": [
    "# print \"Enrolled students\", len(enrollments)\n",
    "\n",
    "# unique_enrolled_students = set()\n",
    "# for enrollment in enrollments:\n",
    "#     unique_enrolled_students.add(enrollment['account_key'])\n",
    "# print \"unique enrolled students\", len(unique_enrolled_students)\n",
    "\n",
    "# print \"Daily engagment\",len(daily_engagement)\n",
    "\n",
    "# unique_engagement_students = set()\n",
    "# for engagement_record in daily_engagement:\n",
    "#     unique_engagement_students.add(engagement_record['account_key'])\n",
    "# print \"unique engagement students\",  len(unique_engagement_students)\n",
    "\n",
    "# print \"Total project submitter\",len(project_submissions)\n",
    "\n",
    "# unique_project_submitters = set()\n",
    "# for submission in project_submissions:\n",
    "#     unique_project_submitters.add(submission['account_key'])\n",
    "# print \"unique project submitters\", len(unique_project_submitters)\n",
    "\n",
    "### Updated Code for Previous Exercise After running the above code, Caroline also shows rewriting the solution from the previous exercise to the following code:\n",
    "def get_unique_students(data):\n",
    "    unique_students = set()\n",
    "    for data_point in data:\n",
    "        unique_students.add(data_point['account_key'])\n",
    "    return unique_students\n",
    "print \"Enrolled students\", len(enrollments)\n",
    "unique_enrolled_students = get_unique_students(enrollments)\n",
    "print \"unique enrolled students\", len(unique_enrolled_students)\n",
    "\n",
    "print \"Daily engagment\",len(daily_engagement)\n",
    "unique_engagement_students = get_unique_students(daily_engagement)\n",
    "print \"unique daily engagement students\",  len(unique_engagement_students)\n",
    "\n",
    "print \"Total project submitter\",len(project_submissions)\n",
    "\n",
    "unique_project_submitters = get_unique_students(project_submissions)\n",
    "print \"unique project submitters\", len(unique_project_submitters)\n",
    "\n",
    "# Prboblem here iwth data is why more unique student in enrollment than engagement\n"
   ]
  },
  {
   "cell_type": "code",
   "execution_count": 28,
   "metadata": {
    "collapsed": false
   },
   "outputs": [],
   "source": [
    "from datetime import date\n",
    "\n",
    "def diff_dates(date1, date2):\n",
    "    return abs(date2-date1).days\n",
    "\n",
    "# def main():\n",
    "#     d1 = date(2013,1,1)\n",
    "#     d2 = date(2013,9,13)\n",
    "#     result1 = diff_dates(d2, d1)\n",
    "#     print '{} days between {} and {}'.format(result1, d1, d2)\n",
    "#     print (\"Happy programmer's day!\")\n",
    "\n",
    "# main()"
   ]
  },
  {
   "cell_type": "code",
   "execution_count": 14,
   "metadata": {
    "collapsed": false
   },
   "outputs": [
    {
     "name": "stdout",
     "output_type": "stream",
     "text": [
      "Students enrolled but not engaged\n",
      " To engagement, student  needs to engage for full day\n",
      "{u'status': u'canceled', u'is_udacity': u'False', u'is_canceled': u'True', u'join_date': u'2014-11-12', u'account_key': u'1219', u'cancel_date': u'2014-11-12', u'days_to_cancel': u'0'}\n"
     ]
    }
   ],
   "source": [
    "print \"Students enrolled but not engaged\\n To engagement, student  needs to engage for full day\"\n",
    "for enrollment in enrollments:\n",
    "    student = enrollment['account_key']\n",
    "    if student not in unique_engagement_students:\n",
    "        print enrollment\n",
    "        break"
   ]
  },
  {
   "cell_type": "code",
   "execution_count": 56,
   "metadata": {
    "collapsed": false
   },
   "outputs": [
    {
     "name": "stdout",
     "output_type": "stream",
     "text": [
      "{u'status': u'canceled', u'is_udacity': u'True', u'is_canceled': u'True', u'join_date': u'2015-01-10', u'account_key': u'1304', u'cancel_date': u'2015-03-10', u'days_to_cancel': u'59'}\n",
      "{u'status': u'canceled', u'is_udacity': u'True', u'is_canceled': u'True', u'join_date': u'2015-03-10', u'account_key': u'1304', u'cancel_date': u'2015-06-17', u'days_to_cancel': u'99'}\n",
      "{u'status': u'current', u'is_udacity': u'True', u'is_canceled': u'False', u'join_date': u'2015-02-25', u'account_key': u'1101', u'cancel_date': u'', u'days_to_cancel': u''}\n",
      "3\n"
     ]
    }
   ],
   "source": [
    "num_problem_students = 0\n",
    "for enrollment in enrollments:\n",
    "    student = enrollment['account_key']\n",
    "    if (student not in unique_engagement_students and \n",
    "            enrollment['join_date'] != enrollment['cancel_date']):\n",
    "        print enrollment\n",
    "        num_problem_students += 1\n",
    "\n",
    "print num_problem_students"
   ]
  },
  {
   "cell_type": "code",
   "execution_count": 15,
   "metadata": {
    "collapsed": false
   },
   "outputs": [
    {
     "data": {
      "text/plain": [
       "6"
      ]
     },
     "execution_count": 15,
     "metadata": {},
     "output_type": "execute_result"
    }
   ],
   "source": [
    "udacity_test_accounts = set()\n",
    "count = 0\n",
    "for enrollment in enrollments:\n",
    "    if enrollment['is_udacity'] == 'True':\n",
    "        udacity_test_accounts.add(enrollment['account_key'])\n",
    "        \n",
    "     \n",
    "len(udacity_test_accounts)\n",
    "\n"
   ]
  },
  {
   "cell_type": "code",
   "execution_count": 16,
   "metadata": {
    "collapsed": false
   },
   "outputs": [
    {
     "name": "stdout",
     "output_type": "stream",
     "text": [
      "1622\n",
      "135656\n",
      "3634\n"
     ]
    }
   ],
   "source": [
    "def remove_udacity_accounts(data):\n",
    "    non_udacity_data = []\n",
    "    for data_point in data:\n",
    "        if data_point['account_key'] not in udacity_test_accounts:\n",
    "            non_udacity_data.append(data_point)\n",
    "    return non_udacity_data\n",
    "\n",
    "non_udacity_enrollments = remove_udacity_accounts(enrollments)\n",
    "non_udacity_engagement = remove_udacity_accounts(daily_engagement)\n",
    "non_udacity_submissions = remove_udacity_accounts(project_submissions)\n",
    "\n",
    "print len(non_udacity_enrollments)\n",
    "print len(non_udacity_engagement)\n",
    "print len(non_udacity_submissions)"
   ]
  },
  {
   "cell_type": "code",
   "execution_count": null,
   "metadata": {
    "collapsed": false
   },
   "outputs": [],
   "source": [
    "paid_students = {}\n",
    "\n",
    "for enrollment in non_udacity_enrollments:\n",
    "    if  enrollment['is_canceled'] == 'False' or enrollment['days_to_cancel'] > 7:\n",
    "        account_key = enrollment['account_key']\n",
    "        enrollment_date = enrollment['join_date']\n",
    "        paid_students[account_key] = enrollment_date\n",
    "len(paid_students)\n",
    "# print paid_students"
   ]
  },
  {
   "cell_type": "code",
   "execution_count": 29,
   "metadata": {
    "collapsed": false
   },
   "outputs": [
    {
     "name": "stdout",
     "output_type": "stream",
     "text": [
      "1622\n",
      "135656\n",
      "3626\n",
      "join_date\n",
      "2015-01-09\n",
      "engagement_record_date\n",
      "1/9/15\n"
     ]
    },
    {
     "ename": "TypeError",
     "evalue": "an integer is required",
     "output_type": "error",
     "traceback": [
      "\u001b[0;31m---------------------------------------------------------------------------\u001b[0m",
      "\u001b[0;31mTypeError\u001b[0m                                 Traceback (most recent call last)",
      "\u001b[0;32m<ipython-input-29-f54212b65974>\u001b[0m in \u001b[0;36m<module>\u001b[0;34m()\u001b[0m\n\u001b[1;32m     35\u001b[0m     \u001b[0;32mprint\u001b[0m \u001b[0mengagement_record_date\u001b[0m\u001b[0;34m\u001b[0m\u001b[0m\n\u001b[1;32m     36\u001b[0m \u001b[0;34m\u001b[0m\u001b[0m\n\u001b[0;32m---> 37\u001b[0;31m     \u001b[0;32mif\u001b[0m \u001b[0mwithin_one_week\u001b[0m\u001b[0;34m(\u001b[0m\u001b[0mjoin_date\u001b[0m\u001b[0;34m,\u001b[0m \u001b[0mengagement_record_date\u001b[0m\u001b[0;34m)\u001b[0m\u001b[0;34m:\u001b[0m\u001b[0;34m\u001b[0m\u001b[0m\n\u001b[0m\u001b[1;32m     38\u001b[0m         \u001b[0mpaid_engagement_in_first_week\u001b[0m\u001b[0;34m.\u001b[0m\u001b[0mappend\u001b[0m\u001b[0;34m(\u001b[0m\u001b[0mengagement_record\u001b[0m\u001b[0;34m)\u001b[0m\u001b[0;34m\u001b[0m\u001b[0m\n\u001b[1;32m     39\u001b[0m \u001b[0;34m\u001b[0m\u001b[0m\n",
      "\u001b[0;32m<ipython-input-29-f54212b65974>\u001b[0m in \u001b[0;36mwithin_one_week\u001b[0;34m(join_date, engagement_date)\u001b[0m\n\u001b[1;32m      1\u001b[0m \u001b[0;32mdef\u001b[0m \u001b[0mwithin_one_week\u001b[0m\u001b[0;34m(\u001b[0m\u001b[0mjoin_date\u001b[0m\u001b[0;34m,\u001b[0m \u001b[0mengagement_date\u001b[0m\u001b[0;34m)\u001b[0m\u001b[0;34m:\u001b[0m\u001b[0;34m\u001b[0m\u001b[0m\n\u001b[0;32m----> 2\u001b[0;31m     \u001b[0md1\u001b[0m \u001b[0;34m=\u001b[0m \u001b[0mdate\u001b[0m\u001b[0;34m(\u001b[0m\u001b[0mjoin_date\u001b[0m\u001b[0;34m)\u001b[0m\u001b[0;34m\u001b[0m\u001b[0m\n\u001b[0m\u001b[1;32m      3\u001b[0m     \u001b[0md2\u001b[0m \u001b[0;34m=\u001b[0m \u001b[0mdate\u001b[0m\u001b[0;34m(\u001b[0m\u001b[0mengagement_date\u001b[0m\u001b[0;34m)\u001b[0m\u001b[0;34m\u001b[0m\u001b[0m\n\u001b[1;32m      4\u001b[0m     \u001b[0mresult1\u001b[0m \u001b[0;34m=\u001b[0m \u001b[0mdiff_dates\u001b[0m\u001b[0;34m(\u001b[0m\u001b[0md2\u001b[0m\u001b[0;34m,\u001b[0m \u001b[0md1\u001b[0m\u001b[0;34m)\u001b[0m\u001b[0;34m\u001b[0m\u001b[0m\n\u001b[1;32m      5\u001b[0m     \u001b[0mtime_delta\u001b[0m \u001b[0;34m=\u001b[0m \u001b[0mresult1\u001b[0m\u001b[0;34m\u001b[0m\u001b[0m\n",
      "\u001b[0;31mTypeError\u001b[0m: an integer is required"
     ]
    }
   ],
   "source": [
    "def within_one_week(join_date, engagement_date):\n",
    "    time_delta = engagement_date - join_date\n",
    "    return time_delta.days < 7\n",
    "\n",
    "def remove_free_trial_cancels(data):\n",
    "    new_data = []\n",
    "    for data_point in data:\n",
    "        if data_point['account_key'] in paid_students:\n",
    "            new_data.append(data_point)\n",
    "    return new_data\n",
    "\n",
    "\n",
    "\n",
    "paid_enrollments = remove_free_trial_cancels(non_udacity_enrollments)\n",
    "paid_engagement = remove_free_trial_cancels(non_udacity_engagement)\n",
    "paid_submissions = remove_free_trial_cancels(non_udacity_submissions)\n",
    "\n",
    "print len(paid_enrollments)\n",
    "print len(paid_engagement)\n",
    "print len(paid_submissions)\n",
    "# print \"paid student\"\n",
    "# print paid_students\n",
    "\n",
    "paid_engagement_in_first_week = []\n",
    "for engagement_record in paid_engagement:\n",
    "    account_key = engagement_record['account_key']\n",
    "    join_date = paid_students[account_key]\n",
    "    print \"join_date\"\n",
    "    print join_date\n",
    "    engagement_record_date = engagement_record['utc_date']\n",
    "    print \"engagement_record_date\"\n",
    "    print engagement_record_date\n",
    "\n",
    "    if within_one_week(join_date, engagement_record_date):\n",
    "        paid_engagement_in_first_week.append(engagement_record)\n",
    "\n",
    "len(paid_engagement_in_first_week)"
   ]
  },
  {
   "cell_type": "code",
   "execution_count": 104,
   "metadata": {
    "collapsed": false
   },
   "outputs": [
    {
     "name": "stdout",
     "output_type": "stream",
     "text": [
      "Running unit tests for pandas\n"
     ]
    },
    {
     "ename": "ImportError",
     "evalue": "Need nose >= 1.0.0 for tests - see http://somethingaboutorange.com/mrl/projects/nose",
     "output_type": "error",
     "traceback": [
      "\u001b[0;31m---------------------------------------------------------------------------\u001b[0m",
      "\u001b[0;31mImportError\u001b[0m                               Traceback (most recent call last)",
      "\u001b[0;32m<ipython-input-104-bd337d9ec6de>\u001b[0m in \u001b[0;36m<module>\u001b[0;34m()\u001b[0m\n\u001b[1;32m      1\u001b[0m \u001b[0;32mimport\u001b[0m \u001b[0mpandas\u001b[0m \u001b[0;32mas\u001b[0m \u001b[0mpd\u001b[0m\u001b[0;34m\u001b[0m\u001b[0m\n\u001b[0;32m----> 2\u001b[0;31m \u001b[0mpd\u001b[0m\u001b[0;34m.\u001b[0m\u001b[0mtest\u001b[0m\u001b[0;34m(\u001b[0m\u001b[0;34m)\u001b[0m\u001b[0;34m\u001b[0m\u001b[0m\n\u001b[0m",
      "\u001b[0;32m/usr/local/lib/python2.7/site-packages/pandas/util/nosetester.pyc\u001b[0m in \u001b[0;36mtest\u001b[0;34m(self, label, verbose, extra_argv, doctests, coverage, raise_warnings)\u001b[0m\n\u001b[1;32m    215\u001b[0m             \u001b[0;32mprint\u001b[0m\u001b[0;34m(\u001b[0m\u001b[0;34m\"Running unit tests for %s\"\u001b[0m \u001b[0;34m%\u001b[0m \u001b[0mself\u001b[0m\u001b[0;34m.\u001b[0m\u001b[0mpackage_name\u001b[0m\u001b[0;34m)\u001b[0m\u001b[0;34m\u001b[0m\u001b[0m\n\u001b[1;32m    216\u001b[0m \u001b[0;34m\u001b[0m\u001b[0m\n\u001b[0;32m--> 217\u001b[0;31m         \u001b[0mself\u001b[0m\u001b[0;34m.\u001b[0m\u001b[0m_show_system_info\u001b[0m\u001b[0;34m(\u001b[0m\u001b[0;34m)\u001b[0m\u001b[0;34m\u001b[0m\u001b[0m\n\u001b[0m\u001b[1;32m    218\u001b[0m \u001b[0;34m\u001b[0m\u001b[0m\n\u001b[1;32m    219\u001b[0m         \u001b[0;31m# reset doctest state on every run\u001b[0m\u001b[0;34m\u001b[0m\u001b[0;34m\u001b[0m\u001b[0m\n",
      "\u001b[0;32m/usr/local/lib/python2.7/site-packages/pandas/util/nosetester.pyc\u001b[0m in \u001b[0;36m_show_system_info\u001b[0;34m(self)\u001b[0m\n\u001b[1;32m    101\u001b[0m \u001b[0;34m\u001b[0m\u001b[0m\n\u001b[1;32m    102\u001b[0m     \u001b[0;32mdef\u001b[0m \u001b[0m_show_system_info\u001b[0m\u001b[0;34m(\u001b[0m\u001b[0mself\u001b[0m\u001b[0;34m)\u001b[0m\u001b[0;34m:\u001b[0m\u001b[0;34m\u001b[0m\u001b[0m\n\u001b[0;32m--> 103\u001b[0;31m         \u001b[0mnose\u001b[0m \u001b[0;34m=\u001b[0m \u001b[0mimport_nose\u001b[0m\u001b[0;34m(\u001b[0m\u001b[0;34m)\u001b[0m\u001b[0;34m\u001b[0m\u001b[0m\n\u001b[0m\u001b[1;32m    104\u001b[0m \u001b[0;34m\u001b[0m\u001b[0m\n\u001b[1;32m    105\u001b[0m         \u001b[0;32mimport\u001b[0m \u001b[0mpandas\u001b[0m\u001b[0;34m\u001b[0m\u001b[0m\n",
      "\u001b[0;32m/usr/local/lib/python2.7/site-packages/numpy/testing/nosetester.pyc\u001b[0m in \u001b[0;36mimport_nose\u001b[0;34m()\u001b[0m\n\u001b[1;32m     71\u001b[0m                \u001b[0;34m'http://somethingaboutorange.com/mrl/projects/nose'\u001b[0m \u001b[0;34m%\u001b[0m\u001b[0;34m\u001b[0m\u001b[0m\n\u001b[1;32m     72\u001b[0m                minimum_nose_version)\n\u001b[0;32m---> 73\u001b[0;31m         \u001b[0;32mraise\u001b[0m \u001b[0mImportError\u001b[0m\u001b[0;34m(\u001b[0m\u001b[0mmsg\u001b[0m\u001b[0;34m)\u001b[0m\u001b[0;34m\u001b[0m\u001b[0m\n\u001b[0m\u001b[1;32m     74\u001b[0m \u001b[0;34m\u001b[0m\u001b[0m\n\u001b[1;32m     75\u001b[0m     \u001b[0;32mreturn\u001b[0m \u001b[0mnose\u001b[0m\u001b[0;34m\u001b[0m\u001b[0m\n",
      "\u001b[0;31mImportError\u001b[0m: Need nose >= 1.0.0 for tests - see http://somethingaboutorange.com/mrl/projects/nose"
     ]
    }
   ],
   "source": [
    "import pandas as pd\n",
    "pd.test()"
   ]
  },
  {
   "cell_type": "code",
   "execution_count": 30,
   "metadata": {
    "collapsed": false
   },
   "outputs": [],
   "source": [
    "import pandas as pd\n",
    "\n"
   ]
  },
  {
   "cell_type": "code",
   "execution_count": 32,
   "metadata": {
    "collapsed": false
   },
   "outputs": [],
   "source": [
    "\n",
    "daily_engagement = pd.read_csv('daily_engagement.csv')\n"
   ]
  },
  {
   "cell_type": "code",
   "execution_count": 34,
   "metadata": {
    "collapsed": false
   },
   "outputs": [
    {
     "data": {
      "text/plain": [
       "1237"
      ]
     },
     "execution_count": 34,
     "metadata": {},
     "output_type": "execute_result"
    }
   ],
   "source": [
    "len(daily_engagement['account_key'].unique())"
   ]
  },
  {
   "cell_type": "code",
   "execution_count": null,
   "metadata": {
    "collapsed": true
   },
   "outputs": [],
   "source": []
  },
  {
   "cell_type": "code",
   "execution_count": 23,
   "metadata": {
    "collapsed": false
   },
   "outputs": [
    {
     "name": "stdout",
     "output_type": "stream",
     "text": [
      "          R003  R004  R005  R006  R007\n",
      "05-01-11     0     0     2     5     0\n",
      "05-02-11  1478  3877  3674  2328  2539\n",
      "05-03-11  1613  4088  3991  6461  2691\n",
      "05-04-11  1560  3392  3826  4787  2613\n",
      "05-05-11  1608  4802  3932  4477  2705\n",
      "05-06-11  1576  3933  3909  4979  2685\n",
      "05-07-11    95   229   255   496   201\n",
      "05-08-11     2     0     1    27     0\n",
      "05-09-11  1438  3785  3589  4174  2215\n",
      "05-10-11  1342  4043  4009  4665  3033\n"
     ]
    }
   ],
   "source": [
    "import pandas as pd\n",
    "\n",
    "# Subway ridership for 5 stations on 10 different days\n",
    "ridership_df = pd.DataFrame(\n",
    "    data=[[   0,    0,    2,    5,    0],\n",
    "          [1478, 3877, 3674, 2328, 2539],\n",
    "          [1613, 4088, 3991, 6461, 2691],\n",
    "          [1560, 3392, 3826, 4787, 2613],\n",
    "          [1608, 4802, 3932, 4477, 2705],\n",
    "          [1576, 3933, 3909, 4979, 2685],\n",
    "          [  95,  229,  255,  496,  201],\n",
    "          [   2,    0,    1,   27,    0],\n",
    "          [1438, 3785, 3589, 4174, 2215],\n",
    "          [1342, 4043, 4009, 4665, 3033]],\n",
    "    index=['05-01-11', '05-02-11', '05-03-11', '05-04-11', '05-05-11',\n",
    "           '05-06-11', '05-07-11', '05-08-11', '05-09-11', '05-10-11'],\n",
    "    columns=['R003', 'R004', 'R005', 'R006', 'R007']\n",
    ")\n",
    "\n",
    "print ridership_df\n",
    "# # Change False to True for each block of code to see what it does\n",
    "\n",
    "# # DataFrame creation\n",
    "# if True:\n",
    "#     # You can create a DataFrame out of a dictionary mapping column names to values\n",
    "#     df_1 = pd.DataFrame({'A': [0, 1, 2], 'B': [3, 4, 5]})\n",
    "#     print df_1\n",
    "\n",
    "#     # You can also use a list of lists or a 2D NumPy array\n",
    "#     df_2 = pd.DataFrame([[0, 1, 2], [3, 4, 5]], columns=['A', 'B', 'C'])\n",
    "#     print df_2\n",
    "   \n",
    "\n",
    "# # Accessing elements\n",
    "# if True:\n",
    "#     print ridership_df.iloc[0]\n",
    "#     print ridership_df.loc['05-05-11']\n",
    "#     print ridership_df['R003']\n",
    "#     print ridership_df.iloc[1, 3]\n",
    "    \n",
    "# # Accessing multiple rows\n",
    "# if True:\n",
    "#     print ridership_df.iloc[1:4]\n",
    "    \n",
    "# # Accessing multiple columns\n",
    "# if True:\n",
    "#     print ridership_df[['R003', 'R005']]\n",
    "    \n",
    "# # Pandas axis\n",
    "# if True:\n",
    "#     df = pd.DataFrame({'A': [0, 1, 2], 'B': [3, 4, 5]})\n",
    "#     print df.sum()\n",
    "#     print df.sum(axis=1)\n",
    "#     print df.values.sum()\n",
    "    \n",
    "# def mean_riders_for_max_station(ridership):\n",
    "#     '''\n",
    "#     Fill in this function to find the station with the maximum riders on the\n",
    "#     first day, then return the mean riders per day for that station. Also\n",
    "#     return the mean ridership overall for comparsion.\n",
    "    \n",
    "#     This is the same as a previous exercise, but this time the\n",
    "#     input is a Pandas DataFrame rather than a 2D NumPy array.\n",
    "#     '''\n",
    "#     overall_mean = None # Replace this with your code\n",
    "#     mean_for_max = None # Replace this with your code\n",
    "    \n",
    "#     return (overall_mean, mean_for_max)"
   ]
  },
  {
   "cell_type": "code",
   "execution_count": 15,
   "metadata": {
    "collapsed": false
   },
   "outputs": [
    {
     "ename": "ImportError",
     "evalue": "No module named plotly.graph_objs",
     "output_type": "error",
     "traceback": [
      "\u001b[0;31m---------------------------------------------------------------------------\u001b[0m",
      "\u001b[0;31mImportError\u001b[0m                               Traceback (most recent call last)",
      "\u001b[0;32m<ipython-input-15-07656be52c7a>\u001b[0m in \u001b[0;36m<module>\u001b[0;34m()\u001b[0m\n\u001b[1;32m      3\u001b[0m \u001b[0;32mimport\u001b[0m \u001b[0mmatplotlib\u001b[0m\u001b[0;34m.\u001b[0m\u001b[0mgridspec\u001b[0m \u001b[0;32mas\u001b[0m \u001b[0mgridspec\u001b[0m \u001b[0;31m# subplots\u001b[0m\u001b[0;34m\u001b[0m\u001b[0m\n\u001b[1;32m      4\u001b[0m \u001b[0;34m\u001b[0m\u001b[0m\n\u001b[0;32m----> 5\u001b[0;31m \u001b[0;32mfrom\u001b[0m \u001b[0mplotly\u001b[0m\u001b[0;34m.\u001b[0m\u001b[0mgraph_objs\u001b[0m \u001b[0;32mimport\u001b[0m \u001b[0;34m*\u001b[0m\u001b[0;34m\u001b[0m\u001b[0m\n\u001b[0m\u001b[1;32m      6\u001b[0m \u001b[0;32mimport\u001b[0m \u001b[0mplotly\u001b[0m\u001b[0;34m.\u001b[0m\u001b[0mtools\u001b[0m \u001b[0;32mas\u001b[0m \u001b[0mtls\u001b[0m\u001b[0;34m\u001b[0m\u001b[0m\n\u001b[1;32m      7\u001b[0m \u001b[0;34m\u001b[0m\u001b[0m\n",
      "\u001b[0;31mImportError\u001b[0m: No module named plotly.graph_objs"
     ]
    }
   ],
   "source": [
    "%matplotlib inline\n",
    "import matplotlib.pyplot as plt # side-stepping mpl backend\n",
    "import matplotlib.gridspec as gridspec # subplots\n",
    "\n",
    "from plotly.graph_objs import *\n",
    "import plotly.tools as tls\n",
    "\n",
    "fig1 = plt.figure()\n",
    "# Make a legend for specific lines.\n",
    "import matplotlib.pyplot as plt\n",
    "import numpy as np\n",
    "\n",
    "\n",
    "t1 = np.arange(0.0, 2.0, 0.1)\n",
    "t2 = np.arange(0.0, 2.0, 0.01)\n",
    "\n",
    "# note that plot returns a list of lines.  The \"l1, = plot\" usage\n",
    "# extracts the first element of the list into l1 using tuple\n",
    "# unpacking.  So l1 is a Line2D instance, not a sequence of lines\n",
    "l1, = plt.plot(t2, np.exp(-t2))\n",
    "l2, l3 = plt.plot(t2, np.sin(2 * np.pi * t2), '--go', t1, np.log(1 + t1), '.')\n",
    "l4, = plt.plot(t2, np.exp(-t2) * np.sin(2 * np.pi * t2), 'rs-.')\n",
    "\n",
    "plt.xlabel('time')\n",
    "plt.ylabel('volts')\n",
    "plt.title('Damped oscillation')\n",
    "\n",
    "plt.show()"
   ]
  },
  {
   "cell_type": "code",
   "execution_count": 13,
   "metadata": {
    "collapsed": false
   },
   "outputs": [
    {
     "name": "stdout",
     "output_type": "stream",
     "text": [
      "Im p\n"
     ]
    }
   ],
   "source": [
    "print \"Im p\""
   ]
  },
  {
   "cell_type": "code",
   "execution_count": 9,
   "metadata": {
    "collapsed": false
   },
   "outputs": [
    {
     "data": {
      "image/png": "[encoded data removed]",
      "text/plain": [
       "<matplotlib.figure.Figure at 0x117526190>"
      ]
     },
     "metadata": {},
     "output_type": "display_data"
    }
   ],
   "source": [
    "import matplotlib\n",
    "import numpy as np\n",
    "import matplotlib.pyplot as plt\n",
    "%matplotlib inline  \n",
    "msg_1998 = pd.read_csv('msg_1998.csv')\n",
    "\n",
    "# plot_1998 = msg_1998[['YearMonth','Total_email']]\n",
    "msg_1998.head()\n",
    "\n",
    "my_plot = msg_1998.plot(kind = 'bar')\n",
    "\n",
    "\n",
    "# x = msg_1998[1:]\n",
    "# y = msg_1998[:2]\n",
    "# plt.plot(x, y)\n",
    "# plt.title('A simple chirp')\n",
    "# plt.show()\n"
   ]
  },
  {
   "cell_type": "code",
   "execution_count": null,
   "metadata": {
    "collapsed": true
   },
   "outputs": [],
   "source": []
  },
  {
   "cell_type": "code",
   "execution_count": 8,
   "metadata": {
    "collapsed": false
   },
   "outputs": [
    {
     "data": {
      "image/png": "[encoded data removed]",
      "text/plain": [
       "<matplotlib.figure.Figure at 0x113ecfe50>"
      ]
     },
     "metadata": {},
     "output_type": "display_data"
    }
   ],
   "source": [
    "import matplotlib.pyplot as plt\n",
    "import numpy as np\n",
    "\n",
    "\n",
    "n = 50\n",
    "x, y, z, s, ew = np.random.rand(5, n)\n",
    "c, ec = np.random.rand(2, n, 4)\n",
    "area_scale, width_scale = 500, 5\n",
    "\n",
    "fig, ax = plt.subplots()\n",
    "sc = ax.scatter(x, y, c=c,\n",
    "                s=np.square(s)*area_scale,\n",
    "                edgecolor=ec,\n",
    "                linewidth=ew*width_scale)\n",
    "ax.grid()\n",
    "\n",
    "plt.show()"
   ]
  },
  {
   "cell_type": "code",
   "execution_count": null,
   "metadata": {
    "collapsed": false
   },
   "outputs": [],
   "source": [
    "n = 1024\n",
    "X = np.random.normal(0,1,n)\n",
    "Y = np.random.normal(0,1,n)\n",
    "\n",
    "plt.scatter(X,Y)\n"
   ]
  },
  {
   "cell_type": "code",
   "execution_count": 25,
   "metadata": {
    "collapsed": false
   },
   "outputs": [
    {
     "name": "stdout",
     "output_type": "stream",
     "text": [
      "Populating the interactive namespace from numpy and matplotlib\n"
     ]
    },
    {
     "name": "stderr",
     "output_type": "stream",
     "text": [
      "ERROR: Line magic function `%matplotib` not found.\n"
     ]
    },
    {
     "data": {
      "text/plain": [
       "<matplotlib.text.Text at 0x11c621390>"
      ]
     },
     "execution_count": 25,
     "metadata": {},
     "output_type": "execute_result"
    },
    {
     "data": {
      "image/png": "[encoded data removed]",
      "text/plain": [
       "<matplotlib.figure.Figure at 0x104e82150>"
      ]
     },
     "metadata": {},
     "output_type": "display_data"
    }
   ],
   "source": [
    "import pandas as pd\n",
    "import matplotlib\n",
    "import matplotlib.pyplot as plt\n",
    "%matplotib inline\n",
    "# matplotlib.rcParams['backend'] = \"Qt4Agg\"\n",
    "\n",
    "%pylab inline\n",
    "import numpy as np\n",
    "\n",
    "Enron = pd.read_csv('chunk1.csv')\n",
    "# print Enron\n",
    "X= Enron['Node']\n",
    "Y= Enron['Page Rank']\n",
    "\n",
    "fig, ax = plt.subplots()\n",
    "ax.scatter(X,Y, color='blue')\n",
    "ax.set_xlim(1, 33022)\n",
    "ax.set_ylim(0, 1)\n",
    "ax.grid('on')\n",
    "ax.set_xlabel('Fraction of nodes')\n",
    "ax.set_ylabel('Page rank distribution')\n",
    "# plt.show()\n",
    "# print X"
   ]
  },
  {
   "cell_type": "raw",
   "metadata": {},
   "source": [
    "\n"
   ]
  },
  {
   "cell_type": "code",
   "execution_count": 24,
   "metadata": {
    "collapsed": false
   },
   "outputs": [
    {
     "data": {
      "image/png": "[encoded data removed]",
      "text/plain": [
       "<matplotlib.figure.Figure at 0x11a42c2d0>"
      ]
     },
     "metadata": {},
     "output_type": "display_data"
    }
   ],
   "source": [
    "FB = pd.read_csv('chunk_Fb.csv')\n",
    "# print Enron\n",
    "X= FB['Node']\n",
    "Y= FB['Degree']\n",
    "# let us make a simple graph\n",
    "fig, ax = plt.subplots()\n",
    "ax.scatter(X,Y,color='blue')\n",
    "# set the basic properties\n",
    "ax.set_xlabel('Fraction of nodes')\n",
    "ax.set_ylabel('Degree Distribution')\n",
    "# set the limits\n",
    "ax.set_xlim(1, 4044)\n",
    "ax.set_ylim(0, 1)\n",
    "# set the grid on\n",
    "ax.grid()"
   ]
  },
  {
   "cell_type": "code",
   "execution_count": 26,
   "metadata": {
    "collapsed": false
   },
   "outputs": [
    {
     "data": {
      "text/plain": [
       "<matplotlib.text.Text at 0x11cc7ded0>"
      ]
     },
     "execution_count": 26,
     "metadata": {},
     "output_type": "execute_result"
    },
    {
     "data": {
      "image/png": "[encoded data removed]",
      "text/plain": [
       "<matplotlib.figure.Figure at 0x11c62c310>"
      ]
     },
     "metadata": {},
     "output_type": "display_data"
    }
   ],
   "source": [
    "X= Enron['Node']\n",
    "Z= Enron['Degree']\n",
    "fig, ax = plt.subplots()\n",
    "ax.scatter(X,Z, color='blue')\n",
    "ax.set_xlim(1, 33022)\n",
    "ax.set_ylim(0, 1)\n",
    "ax.grid()\n",
    "ax.set_xlabel('Fraction of nodes')\n",
    "ax.set_ylabel('Degree Distribution')\n"
   ]
  },
  {
   "cell_type": "code",
   "execution_count": 27,
   "metadata": {
    "collapsed": false
   },
   "outputs": [
    {
     "data": {
      "image/png": "[encoded data removed]",
      "text/plain": [
       "<matplotlib.figure.Figure at 0x11cca0e50>"
      ]
     },
     "metadata": {},
     "output_type": "display_data"
    }
   ],
   "source": [
    "X= FB['Node']\n",
    "Y= FB['Page rank']\n",
    "# let us make a simple graph\n",
    "fig, ax = plt.subplots()\n",
    "ax.scatter(X,Y, color='blue')\n",
    "# set the basic properties\n",
    "ax.set_xlabel('Fraction of nodes')\n",
    "ax.set_ylabel('Page Rank Distribution')\n",
    "# set the limits\n",
    "ax.set_xlim(1, 4044)\n",
    "ax.set_ylim(0, 1)\n",
    "# set the grid on\n",
    "ax.grid()"
   ]
  },
  {
   "cell_type": "code",
   "execution_count": 11,
   "metadata": {
    "collapsed": false,
    "scrolled": true
   },
   "outputs": [
    {
     "data": {
      "image/png": "[encoded data removed]",
      "text/plain": [
       "<matplotlib.figure.Figure at 0x11b00dd10>"
      ]
     },
     "metadata": {},
     "output_type": "display_data"
    }
   ],
   "source": [
    "import brewer2mpl\n",
    "import powerlaw\n",
    "set2 = brewer2mpl.get_map('Set2', 'qualitative', 8).mpl_colors\n",
    "X= FB['Node']\n",
    "Y= FB['PR_Cum']\n",
    "# let us make a simple graph\n",
    "fig, ax = plt.subplots()\n",
    "# ax.plot(x, y, color=blue, lw=3)\n",
    "color = set2[2]\n",
    "ax.scatter(X,Y,label=str(2), facecolor=color)\n",
    "# set the basic properties\n",
    "ax.set_xlabel('Fraction of nodes')\n",
    "ax.set_ylabel('Commulative Degree Distribution')\n",
    "# set the limits\n",
    "ax.set_xlim(1, 4044)\n",
    "ax.set_ylim(0, 1)\n",
    "# set the grid on\n",
    "ax.grid()"
   ]
  },
  {
   "cell_type": "code",
   "execution_count": 18,
   "metadata": {
    "collapsed": false
   },
   "outputs": [
    {
     "data": {
      "text/plain": [
       "<matplotlib.text.Text at 0x11c0b2cd0>"
      ]
     },
     "execution_count": 18,
     "metadata": {},
     "output_type": "execute_result"
    },
    {
     "data": {
      "image/png": "[encoded data removed]",
      "text/plain": [
       "<matplotlib.figure.Figure at 0x11b7f3490>"
      ]
     },
     "metadata": {},
     "output_type": "display_data"
    }
   ],
   "source": [
    "X= Enron['Node']\n",
    "Y= Enron['Cum_Degree']\n",
    "fig, ax = plt.subplots()\n",
    "ax.scatter(X,Y)\n",
    "ax.set_xlim(1, 33021)\n",
    "ax.set_ylim(0, 1)\n",
    "ax.grid()\n",
    "ax.set_xlabel('Fraction of nodes')\n",
    "ax.set_ylabel('Cummulative Degree Distribution')\n"
   ]
  },
  {
   "cell_type": "code",
   "execution_count": 22,
   "metadata": {
    "collapsed": false
   },
   "outputs": [
    {
     "data": {
      "image/png": "[encoded data removed]",
      "text/plain": [
       "<matplotlib.figure.Figure at 0x113f667d0>"
      ]
     },
     "metadata": {},
     "output_type": "display_data"
    }
   ],
   "source": [
    "Wrk = pd.read_csv('W.csv')\n",
    "# print Enron\n",
    "X= Wrk['Node']\n",
    "Y= Wrk['Degree']\n",
    "# let us make a simple graph\n",
    "fig, ax = plt.subplots()\n",
    "ax.scatter(X,Y)\n",
    "# set the basic properties\n",
    "ax.set_xlabel('Fraction of nodes')\n",
    "ax.set_ylabel('Degree Distribution')\n",
    "# set the limits\n",
    "ax.set_xlim(1, 201)\n",
    "ax.set_ylim(0, 1)\n",
    "# set the grid on\n",
    "ax.grid()"
   ]
  },
  {
   "cell_type": "code",
   "execution_count": 54,
   "metadata": {
    "collapsed": false
   },
   "outputs": [
    {
     "name": "stderr",
     "output_type": "stream",
     "text": [
      "Calculating best minimal value for power law fit\n"
     ]
    },
    {
     "data": {
      "text/plain": [
       "2.1056194346233479"
      ]
     },
     "execution_count": 54,
     "metadata": {},
     "output_type": "execute_result"
    }
   ],
   "source": [
    "import powerlaw\n",
    "PL_Enron = pd.read_csv('PL_Enron.csv')\n",
    "data = PL_Enron['Enron_Degree']\n",
    "# print data\n",
    "fit=powerlaw.Fit(data)\n",
    "# Calculating best minimal value for power law fit\n",
    "fit.power_law.alpha\n",
    "# Calculating best minimal value for power law fit\n",
    "# powerlaw.plot_cdf(data)\n",
    "\n"
   ]
  },
  {
   "cell_type": "code",
   "execution_count": 46,
   "metadata": {
    "collapsed": false
   },
   "outputs": [
    {
     "data": {
      "text/plain": [
       "0.0086035863925544836"
      ]
     },
     "execution_count": 46,
     "metadata": {},
     "output_type": "execute_result"
    }
   ],
   "source": [
    "# Calculating best minimal value for power law fit\n",
    "fit.power_law.sigma"
   ]
  },
  {
   "cell_type": "code",
   "execution_count": 56,
   "metadata": {
    "collapsed": false
   },
   "outputs": [
    {
     "data": {
      "text/plain": [
       "154.0"
      ]
     },
     "execution_count": 56,
     "metadata": {},
     "output_type": "execute_result"
    }
   ],
   "source": [
    "fit.xmin"
   ]
  },
  {
   "cell_type": "code",
   "execution_count": 60,
   "metadata": {
    "collapsed": false
   },
   "outputs": [
    {
     "name": "stderr",
     "output_type": "stream",
     "text": [
      "Calculating best minimal value for power law fit\n"
     ]
    },
    {
     "data": {
      "text/plain": [
       "5.9932948548234357"
      ]
     },
     "execution_count": 60,
     "metadata": {},
     "output_type": "execute_result"
    }
   ],
   "source": [
    "PL_Facebook = pd.read_csv('PL_Facebook.csv')\n",
    "data = PL_Facebook['Degree']\n",
    "# print data\n",
    "fit=powerlaw.Fit(data)\n",
    "# Calculating best minimal value for power law fit\n",
    "fit.power_law.alpha\n",
    "# Calculating best minimal value for power law fit\n",
    "# powerlaw.plot_pdf(data)"
   ]
  },
  {
   "cell_type": "code",
   "execution_count": 61,
   "metadata": {
    "collapsed": false
   },
   "outputs": [
    {
     "data": {
      "text/plain": [
       "0.35132699999681688"
      ]
     },
     "execution_count": 61,
     "metadata": {},
     "output_type": "execute_result"
    }
   ],
   "source": [
    "# Calculating best minimal value for power law fit\n",
    "fit.power_law.sigma"
   ]
  },
  {
   "cell_type": "code",
   "execution_count": 62,
   "metadata": {
    "collapsed": false
   },
   "outputs": [
    {
     "data": {
      "text/plain": [
       "154.0"
      ]
     },
     "execution_count": 62,
     "metadata": {},
     "output_type": "execute_result"
    }
   ],
   "source": [
    "fit.xmin"
   ]
  },
  {
   "cell_type": "code",
   "execution_count": null,
   "metadata": {
    "collapsed": true
   },
   "outputs": [],
   "source": []
  }
 ],
 "metadata": {
  "anaconda-cloud": {},
  "kernelspec": {
   "display_name": "Python [Root]",
   "language": "python",
   "name": "Python [Root]"
  },
  "language_info": {
   "codemirror_mode": {
    "name": "ipython",
    "version": 2
   },
   "file_extension": ".py",
   "mimetype": "text/x-python",
   "name": "python",
   "nbconvert_exporter": "python",
   "pygments_lexer": "ipython2",
   "version": "2.7.12"
  }
 },
 "nbformat": 4,
 "nbformat_minor": 1
}
